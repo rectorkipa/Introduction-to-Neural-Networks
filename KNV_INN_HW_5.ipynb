{
  "cells": [
    {
      "cell_type": "markdown",
      "metadata": {
        "id": "YTs2pCqxndF6"
      },
      "source": [
        "## Кривоногов Н.В., INN, практическое задание № 5"
      ]
    },
    {
      "cell_type": "markdown",
      "metadata": {
        "id": "f-FOM18IndGH"
      },
      "source": [
        "1. Попробуйте изменить параметры нейронной сети, работающей с датасетом imdb, либо нейронной сети, работающей airline-passengers (она прилагается вместе с датасетом к уроку в виде отдельного скрипта) так, чтобы улучшить её точность. Приложите анализ\n",
        "2. Попробуйте изменить параметры нейронной сети, генерирующей текст таким образом, чтобы добиться генерации как можно более осмысленного текста. Пришлите лучший текст из получившихся и опишите предпринятые для его получения действия. Можно использовать текст другого произведения\n",
        "3. *Попробуйте реализовать нейронную сеть архитектуры LSTM на numpy\n",
        "4. *Предложите свои варианты решения проблемы исчезающего градиента в RNN"
      ]
    },
    {
      "cell_type": "markdown",
      "source": [
        "### IMDB"
      ],
      "metadata": {
        "id": "S0pEcIDvZmMw"
      }
    },
    {
      "cell_type": "code",
      "source": [
        "import pandas as pd\n",
        "import numpy as np\n",
        "\n",
        "from tensorflow.keras.preprocessing import sequence\n",
        "from keras.models import Sequential\n",
        "from keras.layers import Dense, Embedding\n",
        "from tensorflow.keras.optimizers import Adam, Nadam\n",
        "from keras.layers import LSTM\n",
        "from keras.datasets import imdb\n",
        "from keras.utils import pad_sequences\n",
        "\n",
        "max_features = 10000\n",
        "\n",
        "# обрезаем тексты после данного количества слов (среди top max_features наиболее используемые слова)\n",
        "maxlen = 80\n",
        "batch_size = 128 # увеличьте значение для ускорения обучения\n",
        "num_epochs = 3\n",
        "\n",
        "print('Загрузка данных...')\n",
        "(X_train, y_train), (X_test, y_test) = imdb.load_data(num_words=max_features)\n",
        "print(len(X_train), ' - тренировочные последовательности')\n",
        "print(len(X_test), ' - тестовые последовательности')\n",
        "\n",
        "print('Pad последовательности (примеров в x единицу времени)')\n",
        "X_train = sequence.pad_sequences(X_train, maxlen=maxlen)\n",
        "X_test = sequence.pad_sequences(X_test, maxlen=maxlen)\n",
        "print('X_train shape:', X_train.shape)\n",
        "print('X_test shape:', X_test.shape)\n",
        "\n",
        "print('Построение модели...')\n",
        "model = Sequential()\n",
        "model.add(Embedding(max_features, 128))\n",
        "model.add(Dropout(0.3))\n",
        "model.add(LSTM(128, dropout=0.2))\n",
        "model.add(Dense(1, activation='tanh'))\n",
        "\n",
        "model.compile(loss='binary_crossentropy',\n",
        "              optimizer='adam',\n",
        "              metrics=['accuracy'])\n",
        "model.summary()\n",
        "\n",
        "print('Процесс обучения...')\n",
        "model.fit(X_train, y_train,\n",
        "          batch_size=batch_size,\n",
        "          epochs=num_epochs,\n",
        "          validation_data=(X_test, y_test))\n",
        "\n",
        "print('Валидация модели')\n",
        "score, acc = model.evaluate(X_test, y_test, batch_size=batch_size)\n",
        "print('Точность на тесте: ', acc)"
      ],
      "metadata": {
        "colab": {
          "base_uri": "https://localhost:8080/"
        },
        "id": "eUBricpgWi1C",
        "outputId": "a43cd31d-6511-4b61-8ce0-a1bcef46cbb7"
      },
      "execution_count": 40,
      "outputs": [
        {
          "output_type": "stream",
          "name": "stdout",
          "text": [
            "Загрузка данных...\n",
            "25000  - тренировочные последовательности\n",
            "25000  - тестовые последовательности\n",
            "Pad последовательности (примеров в x единицу времени)\n",
            "X_train shape: (25000, 80)\n",
            "X_test shape: (25000, 80)\n",
            "Построение модели...\n",
            "Model: \"sequential_21\"\n",
            "_________________________________________________________________\n",
            " Layer (type)                Output Shape              Param #   \n",
            "=================================================================\n",
            " embedding_21 (Embedding)    (None, None, 128)         1280000   \n",
            "                                                                 \n",
            " dropout_21 (Dropout)        (None, None, 128)         0         \n",
            "                                                                 \n",
            " lstm_23 (LSTM)              (None, 128)               131584    \n",
            "                                                                 \n",
            " dense_22 (Dense)            (None, 1)                 129       \n",
            "                                                                 \n",
            "=================================================================\n",
            "Total params: 1,411,713\n",
            "Trainable params: 1,411,713\n",
            "Non-trainable params: 0\n",
            "_________________________________________________________________\n",
            "Процесс обучения...\n",
            "Epoch 1/3\n",
            "196/196 [==============================] - 23s 104ms/step - loss: 0.6691 - accuracy: 0.7102 - val_loss: 0.5696 - val_accuracy: 0.6758\n",
            "Epoch 2/3\n",
            "196/196 [==============================] - 14s 71ms/step - loss: 0.4911 - accuracy: 0.7987 - val_loss: 0.5935 - val_accuracy: 0.8058\n",
            "Epoch 3/3\n",
            "196/196 [==============================] - 7s 35ms/step - loss: 0.3511 - accuracy: 0.8636 - val_loss: 0.4794 - val_accuracy: 0.8329\n",
            "Валидация модели\n",
            "196/196 [==============================] - 1s 5ms/step - loss: 0.4794 - accuracy: 0.8329\n",
            "Точность на тесте:  0.8328800201416016\n"
          ]
        }
      ]
    },
    {
      "cell_type": "code",
      "source": [],
      "metadata": {
        "id": "8wYUhZklht71"
      },
      "execution_count": null,
      "outputs": []
    },
    {
      "cell_type": "markdown",
      "source": [
        "1. Первоначальная точность: 0.8348\n",
        "2. max_features = 18200, точность: 0.8262\n",
        "3. optimizer='Nadam', точность: 0.8359 - улучшение\n",
        "4. maxlen = 70, точность: 0.8286\n",
        "5. batch_size = 256, точность: 0.8358 - улучшение\n",
        "6. max_features = 8888, точность: 0.8309\n",
        "7. num_epochs = 2, точность: 0.8424 - улучшение\n",
        "8. model.add(LSTM(128, dropout=0.15)), точность: 0.8364 - улучшение\n",
        "9. model.add(LSTM(256, dropout=0.2)), точность: 0.8360 - улучшение\n",
        "10. model.add(Dense(1, activation='tanh')), точность: 0.8329"
      ],
      "metadata": {
        "id": "1CdDM1ICfpj4"
      }
    },
    {
      "cell_type": "markdown",
      "source": [
        "Можно сделать вывод: рекуррентные нейронные сети обладают большим количеством гибких параметров, настройка которых может сильно повлиять на точность модели. "
      ],
      "metadata": {
        "id": "xjzoL5NPpoOI"
      }
    },
    {
      "cell_type": "code",
      "source": [],
      "metadata": {
        "id": "m1cd_Ee_ZnMI"
      },
      "execution_count": null,
      "outputs": []
    },
    {
      "cell_type": "code",
      "source": [],
      "metadata": {
        "id": "QQoE2rdQqEC3"
      },
      "execution_count": null,
      "outputs": []
    },
    {
      "cell_type": "markdown",
      "source": [
        "### Для задачи генерации текста попробую использовать произведение Джорджа Оруэлла \"1984\""
      ],
      "metadata": {
        "id": "N6pZifQiWjY-"
      }
    },
    {
      "cell_type": "code",
      "execution_count": 15,
      "metadata": {
        "id": "t6cnvuzdQPJ_"
      },
      "outputs": [],
      "source": [
        "# импорт библиотек: \n",
        "\n",
        "import numpy as np\n",
        "import matplotlib.pyplot as plt\n",
        "from keras.callbacks import EarlyStopping\n",
        "from keras.models import Sequential\n",
        "from keras.layers import Dense, Embedding\n",
        "from keras.layers import LSTM"
      ]
    },
    {
      "cell_type": "code",
      "source": [
        "!wget https://drive.google.com/file/d/1YDrWAhIwPrt9bvv8oNb8rR8cuPFkGXsB/view?usp=sharing -O 1984.txt"
      ],
      "metadata": {
        "id": "pUkI-chfc734"
      },
      "execution_count": null,
      "outputs": []
    },
    {
      "cell_type": "code",
      "execution_count": 1,
      "metadata": {
        "colab": {
          "base_uri": "https://localhost:8080/"
        },
        "id": "Lil1zL5mQPKC",
        "outputId": "b159d375-04df-4b2f-a83f-1e9526ddd777"
      },
      "outputs": [
        {
          "output_type": "execute_result",
          "data": {
            "text/plain": [
              "['1984. george orwell',\n",
              " '',\n",
              " 'part i',\n",
              " '',\n",
              " '',\n",
              " 'i',\n",
              " '',\n",
              " '',\n",
              " 'it was a bright cold day in april, and the clocks were striking thirteen. winston smith, his chin nuzzled into his breast in an effort to escape the vile wind, slipped quickly through the glass doors of victory mansions, though not quickly enough to prevent a swirl of gritty dust from entering along with him.',\n",
              " '']"
            ]
          },
          "metadata": {},
          "execution_count": 1
        }
      ],
      "source": [
        "# читаю текст: \n",
        "\n",
        "data = open('1984.txt', encoding='utf-8').read()\n",
        "corpus = data.lower().split(\"\\n\")\n",
        "corpus[:10]"
      ]
    },
    {
      "cell_type": "code",
      "source": [
        "# # ДЛЯ ЗАПУСКА ИЗ jupyter notebook: \n",
        "# # читаю текст: \n",
        "\n",
        "# data = open('1984.txt', encoding='utf-8').read()\n",
        "# corpus = data.lower().split(\"\\n\")\n",
        "# corpus[:10]"
      ],
      "metadata": {
        "id": "AC2bHkk1VfC_"
      },
      "execution_count": null,
      "outputs": []
    },
    {
      "cell_type": "code",
      "execution_count": 3,
      "metadata": {
        "id": "oh5_2XJSQPKE"
      },
      "outputs": [],
      "source": [
        "from keras.preprocessing.text import Tokenizer\n",
        "from tensorflow.keras.preprocessing.sequence import pad_sequences\n",
        "from tensorflow.keras.utils import to_categorical\n",
        "\n",
        "\n",
        "# создаю объект для токенизации: \n",
        "total_words = 1000\n",
        "tokenizer = Tokenizer(num_words=total_words)\n",
        "tokenizer.fit_on_texts(corpus)\n",
        "\n",
        "# tokenizer.index_word"
      ]
    },
    {
      "cell_type": "code",
      "execution_count": 4,
      "metadata": {
        "colab": {
          "base_uri": "https://localhost:8080/"
        },
        "id": "3r2t_31kQPKF",
        "outputId": "29be1853-658e-4294-a1c7-981a678f2181"
      },
      "outputs": [
        {
          "output_type": "stream",
          "name": "stdout",
          "text": [
            "1984. george orwell\n",
            "[[375]]\n",
            "375 2347\n"
          ]
        }
      ],
      "source": [
        "print(corpus[0])\n",
        "print(tokenizer.texts_to_sequences([corpus[0]]))\n",
        "print(tokenizer.word_index['1984'], tokenizer.word_index['george'])"
      ]
    },
    {
      "cell_type": "code",
      "execution_count": 5,
      "metadata": {
        "colab": {
          "base_uri": "https://localhost:8080/"
        },
        "id": "w1uN-AKdQPKF",
        "outputId": "4e702ba2-ef3d-48d7-fba2-7a10acf88c3e"
      },
      "outputs": [
        {
          "output_type": "execute_result",
          "data": {
            "text/plain": [
              "[[376, 79],\n",
              " [9, 3],\n",
              " [9, 3, 4],\n",
              " [9, 3, 4, 497],\n",
              " [9, 3, 4, 497, 343],\n",
              " [9, 3, 4, 497, 343, 110],\n",
              " [9, 3, 4, 497, 343, 110, 7],\n",
              " [9, 3, 4, 497, 343, 110, 7, 747],\n",
              " [9, 3, 4, 497, 343, 110, 7, 747, 5],\n",
              " [9, 3, 4, 497, 343, 110, 7, 747, 5, 1]]"
            ]
          },
          "metadata": {},
          "execution_count": 5
        }
      ],
      "source": [
        "# создаю последовательность токенов: \n",
        "\n",
        "input_sequences = []\n",
        "for line in corpus:\n",
        "\ttoken_list = tokenizer.texts_to_sequences([line])[0]\n",
        "\tfor i in range(1, len(token_list)):\n",
        "\t\tsequence = token_list[:i+1]\n",
        "\t\tinput_sequences.append(sequence)\n",
        "input_sequences[:10]"
      ]
    },
    {
      "cell_type": "code",
      "execution_count": 6,
      "metadata": {
        "colab": {
          "base_uri": "https://localhost:8080/"
        },
        "id": "GVVDdxl3QPKG",
        "outputId": "ff9c45ed-3d29-494c-8285-77becd13e02b"
      },
      "outputs": [
        {
          "output_type": "stream",
          "name": "stdout",
          "text": [
            "395\n"
          ]
        },
        {
          "output_type": "execute_result",
          "data": {
            "text/plain": [
              "array([[  0,   0,   0, ...,   0, 376,  79],\n",
              "       [  0,   0,   0, ...,   0,   9,   3],\n",
              "       [  0,   0,   0, ...,   9,   3,   4],\n",
              "       ...,\n",
              "       [  0,   0,   0, ..., 110,   7, 747],\n",
              "       [  0,   0,   0, ...,   7, 747,   5],\n",
              "       [  0,   0,   0, ..., 747,   5,   1]], dtype=int32)"
            ]
          },
          "metadata": {},
          "execution_count": 6
        }
      ],
      "source": [
        "# pad sequences: \n",
        "\n",
        "max_sequence_len = max([len(x) for x in input_sequences])\n",
        "print(max_sequence_len)\n",
        "input_sequences = np.array(pad_sequences(input_sequences, maxlen=max_sequence_len, padding='pre'))\n",
        "input_sequences[:10]"
      ]
    },
    {
      "cell_type": "code",
      "execution_count": 7,
      "metadata": {
        "colab": {
          "base_uri": "https://localhost:8080/"
        },
        "id": "RJYJMi-eQPKH",
        "outputId": "b748c9db-6ff6-4989-cc21-cb973647af7d"
      },
      "outputs": [
        {
          "output_type": "execute_result",
          "data": {
            "text/plain": [
              "(21469, 1000)"
            ]
          },
          "metadata": {},
          "execution_count": 7
        }
      ],
      "source": [
        "predictors, label = input_sequences[:,:-1], input_sequences[:,-1]\n",
        "\n",
        "label = to_categorical(label, num_classes=total_words)\n",
        "label.shape"
      ]
    },
    {
      "cell_type": "code",
      "execution_count": 8,
      "metadata": {
        "colab": {
          "base_uri": "https://localhost:8080/"
        },
        "id": "Ypb1WRaDQPKI",
        "outputId": "b22671ad-ff46-424c-93b8-29b8c17ab12a"
      },
      "outputs": [
        {
          "output_type": "execute_result",
          "data": {
            "text/plain": [
              "(array([  0,   0,   0,   0,   0,   0,   0,   0,   0,   0,   0,   0,   0,\n",
              "          0,   0,   0,   0,   0,   0,   0,   0,   0,   0,   0,   0,   0,\n",
              "          0,   0,   0,   0,   0,   0,   0,   0,   0,   0,   0,   0,   0,\n",
              "          0,   0,   0,   0,   0,   0,   0,   0,   0,   0,   0,   0,   0,\n",
              "          0,   0,   0,   0,   0,   0,   0,   0,   0,   0,   0,   0,   0,\n",
              "          0,   0,   0,   0,   0,   0,   0,   0,   0,   0,   0,   0,   0,\n",
              "          0,   0,   0,   0,   0,   0,   0,   0,   0,   0,   0,   0,   0,\n",
              "          0,   0,   0,   0,   0,   0,   0,   0,   0,   0,   0,   0,   0,\n",
              "          0,   0,   0,   0,   0,   0,   0,   0,   0,   0,   0,   0,   0,\n",
              "          0,   0,   0,   0,   0,   0,   0,   0,   0,   0,   0,   0,   0,\n",
              "          0,   0,   0,   0,   0,   0,   0,   0,   0,   0,   0,   0,   0,\n",
              "          0,   0,   0,   0,   0,   0,   0,   0,   0,   0,   0,   0,   0,\n",
              "          0,   0,   0,   0,   0,   0,   0,   0,   0,   0,   0,   0,   0,\n",
              "          0,   0,   0,   0,   0,   0,   0,   0,   0,   0,   0,   0,   0,\n",
              "          0,   0,   0,   0,   0,   0,   0,   0,   0,   0,   0,   0,   0,\n",
              "          0,   0,   0,   0,   0,   0,   0,   0,   0,   0,   0,   0,   0,\n",
              "          0,   0,   0,   0,   0,   0,   0,   0,   0,   0,   0,   0,   0,\n",
              "          0,   0,   0,   0,   0,   0,   0,   0,   0,   0,   0,   0,   0,\n",
              "          0,   0,   0,   0,   0,   0,   0,   0,   0,   0,   0,   0,   0,\n",
              "          0,   0,   0,   0,   0,   0,   0,   0,   0,   0,   0,   0,   0,\n",
              "          0,   0,   0,   0,   0,   0,   0,   0,   0,   0,   0,   0,   0,\n",
              "          0,   0,   0,   0,   0,   0,   0,   0,   0,   0,   0,   0,   0,\n",
              "          0,   0,   0,   0,   0,   0,   0,   0,   0,   0,   0,   0,   0,\n",
              "          0,   0,   0,   0,   0,   0,   0,   0,   0,   0,   0,   0,   0,\n",
              "          0,   0,   0,   0,   0,   0,   0,   0,   0,   0,   0,   0,   0,\n",
              "          0,   0,   0,   0,   0,   0,   0,   0,   0,   0,   0,   0,   0,\n",
              "          0,   0,   0,   0,   0,   0,   0,   0,   0,   0,   0,   0,   0,\n",
              "          0,   0,   0,   0,   0,   0,   0,   0,   0,   0,   0,   0,   0,\n",
              "          0,   0,   0,   0,   0,   0,   0,   0,   0,   0,   0,   0,   0,\n",
              "          0,   0,   0,   0,   0,   0,   0,   0,   0,   0,   0,   0,   0,\n",
              "          0,   0,   0, 376], dtype=int32),\n",
              " 79)"
            ]
          },
          "metadata": {},
          "execution_count": 8
        }
      ],
      "source": [
        "predictors[0], np.argmax(label[0])"
      ]
    },
    {
      "cell_type": "markdown",
      "source": [
        "СОЗДАЮ СЕТЬ: "
      ],
      "metadata": {
        "id": "d3XQ-8kpV4Bv"
      }
    },
    {
      "cell_type": "code",
      "execution_count": 9,
      "metadata": {
        "colab": {
          "base_uri": "https://localhost:8080/"
        },
        "id": "cFZ_vOX-QPKK",
        "outputId": "8a30d39a-87e7-4105-8f19-942c30ad6ed8"
      },
      "outputs": [
        {
          "output_type": "stream",
          "name": "stdout",
          "text": [
            "Model: \"sequential\"\n",
            "_________________________________________________________________\n",
            " Layer (type)                Output Shape              Param #   \n",
            "=================================================================\n",
            " embedding (Embedding)       (None, 394, 512)          512000    \n",
            "                                                                 \n",
            " bidirectional (Bidirectiona  (None, 394, 512)         1574912   \n",
            " l)                                                              \n",
            "                                                                 \n",
            " bidirectional_1 (Bidirectio  (None, 394, 1024)        4198400   \n",
            " nal)                                                            \n",
            "                                                                 \n",
            " lstm_2 (LSTM)               (None, 1024)              8392704   \n",
            "                                                                 \n",
            " dropout (Dropout)           (None, 1024)              0         \n",
            "                                                                 \n",
            " dense (Dense)               (None, 2000)              2050000   \n",
            "                                                                 \n",
            " dense_1 (Dense)             (None, 1000)              2001000   \n",
            "                                                                 \n",
            "=================================================================\n",
            "Total params: 18,729,016\n",
            "Trainable params: 18,729,016\n",
            "Non-trainable params: 0\n",
            "_________________________________________________________________\n"
          ]
        }
      ],
      "source": [
        "from keras.layers import Dropout, Bidirectional\n",
        "from keras import regularizers\n",
        "from tensorflow.keras.optimizers import Adam\n",
        "\n",
        "\n",
        "early_stop = EarlyStopping(monitor='val_loss', patience=10)\n",
        "\n",
        "model = Sequential()\n",
        "model.add(Embedding(input_dim=total_words,\n",
        "                    output_dim=512,\n",
        "                    input_length=max_sequence_len-1))\n",
        "\n",
        "model.add(Bidirectional(LSTM(256, return_sequences=True)))\n",
        "model.add(Bidirectional(LSTM(512, return_sequences=True)))\n",
        "model.add(LSTM(1024))\n",
        "model.add(Dropout(0.2))\n",
        "model.add(Dense(total_words * 2 , activation='relu'))\n",
        "model.add(Dense(total_words, activation='softmax'))\n",
        "\n",
        "model.compile(loss='categorical_crossentropy',\n",
        "              optimizer=Adam(0.001),\n",
        "              metrics=['accuracy'])\n",
        "model.summary()"
      ]
    },
    {
      "cell_type": "code",
      "execution_count": 10,
      "metadata": {
        "colab": {
          "base_uri": "https://localhost:8080/"
        },
        "id": "efLq3zDDQPKL",
        "outputId": "a8717191-5e17-44da-823e-a3a5b78f02f0"
      },
      "outputs": [
        {
          "output_type": "stream",
          "name": "stdout",
          "text": [
            "Epoch 1/100\n",
            "537/537 [==============================] - 319s 564ms/step - loss: 5.6381 - accuracy: 0.0788 - val_loss: 5.5496 - val_accuracy: 0.0796\n",
            "Epoch 2/100\n",
            "537/537 [==============================] - 268s 500ms/step - loss: 5.3260 - accuracy: 0.1056 - val_loss: 5.4562 - val_accuracy: 0.0994\n",
            "Epoch 3/100\n",
            "537/537 [==============================] - 265s 493ms/step - loss: 5.1224 - accuracy: 0.1248 - val_loss: 5.3566 - val_accuracy: 0.1106\n",
            "Epoch 4/100\n",
            "537/537 [==============================] - 263s 489ms/step - loss: 4.9514 - accuracy: 0.1368 - val_loss: 5.2855 - val_accuracy: 0.1232\n",
            "Epoch 5/100\n",
            "537/537 [==============================] - 266s 496ms/step - loss: 4.8124 - accuracy: 0.1447 - val_loss: 5.2397 - val_accuracy: 0.1330\n",
            "Epoch 6/100\n",
            "537/537 [==============================] - 245s 456ms/step - loss: 4.6858 - accuracy: 0.1503 - val_loss: 5.2982 - val_accuracy: 0.1262\n",
            "Epoch 7/100\n",
            "537/537 [==============================] - 265s 494ms/step - loss: 4.5535 - accuracy: 0.1563 - val_loss: 5.2962 - val_accuracy: 0.1341\n",
            "Epoch 8/100\n",
            "537/537 [==============================] - 245s 456ms/step - loss: 4.4120 - accuracy: 0.1632 - val_loss: 5.4187 - val_accuracy: 0.1444\n",
            "Epoch 9/100\n",
            "537/537 [==============================] - 245s 456ms/step - loss: 4.2542 - accuracy: 0.1796 - val_loss: 5.5439 - val_accuracy: 0.1467\n",
            "Epoch 10/100\n",
            "537/537 [==============================] - 263s 491ms/step - loss: 4.0831 - accuracy: 0.1903 - val_loss: 5.7227 - val_accuracy: 0.1404\n",
            "Epoch 11/100\n",
            "537/537 [==============================] - 265s 493ms/step - loss: 3.9098 - accuracy: 0.2059 - val_loss: 5.9412 - val_accuracy: 0.1360\n",
            "Epoch 12/100\n",
            "537/537 [==============================] - 245s 456ms/step - loss: 3.7043 - accuracy: 0.2256 - val_loss: 6.3126 - val_accuracy: 0.1253\n",
            "Epoch 13/100\n",
            "537/537 [==============================] - 264s 491ms/step - loss: 3.5116 - accuracy: 0.2516 - val_loss: 6.6021 - val_accuracy: 0.1239\n",
            "Epoch 14/100\n",
            "537/537 [==============================] - 264s 492ms/step - loss: 3.3146 - accuracy: 0.2746 - val_loss: 7.0064 - val_accuracy: 0.1171\n",
            "Epoch 15/100\n",
            "537/537 [==============================] - 264s 492ms/step - loss: 3.0780 - accuracy: 0.3111 - val_loss: 7.4855 - val_accuracy: 0.1071\n"
          ]
        }
      ],
      "source": [
        "# к сожалению обучение длится очень долго, что не дает возможности вдоволь поэкспериментировать с параметрами нейронной сети: \n",
        "\n",
        "history = model.fit(predictors, label,\n",
        "                    epochs=100,\n",
        "                    validation_split=0.2,\n",
        "                    callbacks=[early_stop],\n",
        "                    verbose=1)"
      ]
    },
    {
      "cell_type": "markdown",
      "source": [
        "ТЕСТ:"
      ],
      "metadata": {
        "id": "0I1tISYKV--8"
      }
    },
    {
      "cell_type": "code",
      "source": [
        "acc = history.history['accuracy']\n",
        "acc_v = history.history['val_accuracy']\n",
        "loss = history.history['loss']\n",
        "loss_v = history.history['val_loss']\n",
        "\n",
        "epochs = range(len(acc))\n",
        "\n",
        "plt.plot(epochs, acc, label='Train')\n",
        "plt.plot(epochs, acc_v, label='Test')\n",
        "plt.legend()\n",
        "plt.title('accuracy')\n",
        "\n",
        "plt.figure()\n",
        "\n",
        "plt.plot(epochs, loss, label='Train')\n",
        "plt.plot(epochs, loss_v, label='Test')\n",
        "plt.title('loss')\n",
        "plt.legend()\n",
        "\n",
        "plt.show()"
      ],
      "metadata": {
        "colab": {
          "base_uri": "https://localhost:8080/",
          "height": 887
        },
        "id": "-IA07qEvQ6LH",
        "outputId": "dc96df4a-088e-4087-c3da-49e88a55c8ef"
      },
      "execution_count": 16,
      "outputs": [
        {
          "output_type": "display_data",
          "data": {
            "text/plain": [
              "<Figure size 640x480 with 1 Axes>"
            ],
            "image/png": "[encoded data removed]"
          },
          "metadata": {}
        },
        {
          "output_type": "display_data",
          "data": {
            "text/plain": [
              "<Figure size 640x480 with 1 Axes>"
            ],
            "image/png": "[encoded data removed]"
          },
          "metadata": {}
        }
      ]
    },
    {
      "cell_type": "markdown",
      "source": [
        "СТРОЮ ТЕСТЫ ГЕНЕРАТОРА: "
      ],
      "metadata": {
        "id": "TG5KYRORWGsQ"
      }
    },
    {
      "cell_type": "code",
      "source": [
        "seed_text = \"Help me Obi Wan Kenobi, you're my only hope\"\n",
        "\n",
        "next_words = 10\n",
        "  \n",
        "for _ in range(next_words):\n",
        "    token_list = tokenizer.texts_to_sequences([seed_text])[0]\n",
        "    print(token_list)\n",
        "    token_list = pad_sequences([token_list], maxlen=max_sequence_len-1, padding='pre')\n",
        "    predicted_proba = model.predict(token_list, verbose=0)\n",
        "    predicted_classes = np.argmax(predicted_proba, axis=1)\n",
        "\n",
        "    output_word = tokenizer.index_word[predicted_classes[0]]\n",
        "    seed_text += \" \" + output_word\n",
        "    \n",
        "print(seed_text)"
      ],
      "metadata": {
        "colab": {
          "base_uri": "https://localhost:8080/"
        },
        "id": "FHiNxo5RQ6Ow",
        "outputId": "0a09d670-f7b7-4d50-d2bf-eee7f8428525"
      },
      "execution_count": 18,
      "outputs": [
        {
          "output_type": "stream",
          "name": "stdout",
          "text": [
            "[309, 928, 65, 664]\n",
            "[309, 928, 65, 664, 6]\n",
            "[309, 928, 65, 664, 6, 29]\n",
            "[309, 928, 65, 664, 6, 29, 166]\n",
            "[309, 928, 65, 664, 6, 29, 166, 200]\n",
            "[309, 928, 65, 664, 6, 29, 166, 200, 26]\n",
            "[309, 928, 65, 664, 6, 29, 166, 200, 26, 33]\n",
            "[309, 928, 65, 664, 6, 29, 166, 200, 26, 33, 16]\n",
            "[309, 928, 65, 664, 6, 29, 166, 200, 26, 33, 16, 183]\n",
            "[309, 928, 65, 664, 6, 29, 166, 200, 26, 33, 16, 183, 1]\n",
            "Help me Obi Wan Kenobi, you're my only hope to him whether possible winston could not remember the of\n"
          ]
        }
      ]
    },
    {
      "cell_type": "markdown",
      "source": [
        "Помоги мне, Оби Ван Кеноби, ты моя единственная надежда\n",
        "\n",
        "на него, возможно ли, что Уинстон не смог вспомнить о"
      ],
      "metadata": {
        "id": "ZifOAZefTpWg"
      }
    },
    {
      "cell_type": "code",
      "source": [
        "seed_text = \"Russia must move forward, relying on the best traditions\"\n",
        "\n",
        "next_words = 10\n",
        "  \n",
        "for _ in range(next_words):\n",
        "    token_list = tokenizer.texts_to_sequences([seed_text])[0]\n",
        "    print(token_list)\n",
        "    token_list = pad_sequences([token_list], maxlen=max_sequence_len-1, padding='pre')\n",
        "    predicted_proba = model.predict(token_list, verbose=0)\n",
        "    predicted_classes = np.argmax(predicted_proba, axis=1)\n",
        "\n",
        "    output_word = tokenizer.index_word[predicted_classes[0]]\n",
        "    seed_text += \" \" + output_word\n",
        "    \n",
        "print(seed_text)"
      ],
      "metadata": {
        "colab": {
          "base_uri": "https://localhost:8080/"
        },
        "id": "ldiNEOIgQ6Sa",
        "outputId": "314e38cc-dec8-4d07-d66f-9efed3687f0d"
      },
      "execution_count": 19,
      "outputs": [
        {
          "output_type": "stream",
          "name": "stdout",
          "text": [
            "[141, 853, 20, 1, 980]\n",
            "[141, 853, 20, 1, 980, 2]\n",
            "[141, 853, 20, 1, 980, 2, 814]\n",
            "[141, 853, 20, 1, 980, 2, 814, 3]\n",
            "[141, 853, 20, 1, 980, 2, 814, 3, 1]\n",
            "[141, 853, 20, 1, 980, 2, 814, 3, 1, 2]\n",
            "[141, 853, 20, 1, 980, 2, 814, 3, 1, 2, 4]\n",
            "[141, 853, 20, 1, 980, 2, 814, 3, 1, 2, 4, 2]\n",
            "[141, 853, 20, 1, 980, 2, 814, 3, 1, 2, 4, 2, 701]\n",
            "[141, 853, 20, 1, 980, 2, 814, 3, 1, 2, 4, 2, 701, 882]\n",
            "Russia must move forward, relying on the best traditions of holes was the of a of shorts grey and\n"
          ]
        }
      ]
    },
    {
      "cell_type": "markdown",
      "source": [
        "Россия должна идти вперед, опираясь на лучшие традиции \n",
        "\n",
        "дырок были в шортах серого цвета и"
      ],
      "metadata": {
        "id": "CbSnhMBkTqV0"
      }
    }
  ],
  "metadata": {
    "accelerator": "GPU",
    "colab": {
      "gpuType": "T4",
      "provenance": []
    },
    "kernelspec": {
      "display_name": "Python 3",
      "name": "python3"
    },
    "language_info": {
      "codemirror_mode": {
        "name": "ipython",
        "version": 3
      },
      "file_extension": ".py",
      "mimetype": "text/x-python",
      "name": "python",
      "nbconvert_exporter": "python",
      "pygments_lexer": "ipython3",
      "version": "3.9.13"
    }
  },
  "nbformat": 4,
  "nbformat_minor": 0
}