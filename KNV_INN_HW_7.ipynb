{
 "cells": [
  {
   "cell_type": "markdown",
   "metadata": {},
   "source": [
    "https://www.kaggle.com/brendan45774/chess-piece-dectection"
   ]
  },
  {
   "cell_type": "code",
   "execution_count": 1,
   "metadata": {
    "execution": {
     "iopub.execute_input": "2022-03-10T09:14:54.565775Z",
     "iopub.status.busy": "2022-03-10T09:14:54.56541Z",
     "iopub.status.idle": "2022-03-10T09:15:29.435025Z",
     "shell.execute_reply": "2022-03-10T09:15:29.4342Z",
     "shell.execute_reply.started": "2022-03-10T09:14:54.565678Z"
    }
   },
   "outputs": [
    {
     "name": "stdout",
     "output_type": "stream",
     "text": [
      "Requirement already satisfied: imageai in c:\\conda\\lib\\site-packages (3.0.3)\n",
      "Note: you may need to restart the kernel to use updated packages.\n"
     ]
    },
    {
     "name": "stderr",
     "output_type": "stream",
     "text": [
      "\n",
      "[notice] A new release of pip is available: 23.0.1 -> 23.1.2\n",
      "[notice] To update, run: C:\\Conda\\python.exe -m pip install --upgrade pip\n"
     ]
    }
   ],
   "source": [
    "pip install imageai"
   ]
  },
  {
   "cell_type": "code",
   "execution_count": 2,
   "metadata": {},
   "outputs": [
    {
     "name": "stdout",
     "output_type": "stream",
     "text": [
      "Note: you may need to restart the kernel to use updated packages.\n"
     ]
    },
    {
     "name": "stderr",
     "output_type": "stream",
     "text": [
      "ERROR: Could not find a version that satisfies the requirement cv2 (from versions: none)\n",
      "ERROR: No matching distribution found for cv2\n",
      "\n",
      "[notice] A new release of pip is available: 23.0.1 -> 23.1.2\n",
      "[notice] To update, run: C:\\Conda\\python.exe -m pip install --upgrade pip\n"
     ]
    }
   ],
   "source": [
    "pip install cv2"
   ]
  },
  {
   "cell_type": "code",
   "execution_count": 3,
   "metadata": {},
   "outputs": [
    {
     "name": "stdout",
     "output_type": "stream",
     "text": [
      "Requirement already satisfied: opencv-python in c:\\conda\\lib\\site-packages (4.7.0.72)\n",
      "Requirement already satisfied: numpy>=1.17.3 in c:\\conda\\lib\\site-packages (from opencv-python) (1.23.5)\n",
      "Note: you may need to restart the kernel to use updated packages.\n"
     ]
    },
    {
     "name": "stderr",
     "output_type": "stream",
     "text": [
      "\n",
      "[notice] A new release of pip is available: 23.0.1 -> 23.1.2\n",
      "[notice] To update, run: C:\\Conda\\python.exe -m pip install --upgrade pip\n"
     ]
    }
   ],
   "source": [
    "pip install opencv-python"
   ]
  },
  {
   "cell_type": "code",
   "execution_count": 4,
   "metadata": {},
   "outputs": [
    {
     "name": "stdout",
     "output_type": "stream",
     "text": [
      "Requirement already satisfied: torch in c:\\conda\\lib\\site-packages (1.8.1)\n",
      "Requirement already satisfied: torchvision in c:\\conda\\lib\\site-packages (0.9.1)\n",
      "Requirement already satisfied: torchaudio in c:\\conda\\lib\\site-packages (0.8.1)\n",
      "Requirement already satisfied: typing-extensions in c:\\conda\\lib\\site-packages (from torch) (4.3.0)\n",
      "Requirement already satisfied: numpy in c:\\conda\\lib\\site-packages (from torch) (1.23.5)\n",
      "Requirement already satisfied: pillow>=4.1.1 in c:\\conda\\lib\\site-packages (from torchvision) (9.2.0)\n",
      "Note: you may need to restart the kernel to use updated packages.\n"
     ]
    },
    {
     "name": "stderr",
     "output_type": "stream",
     "text": [
      "\n",
      "[notice] A new release of pip is available: 23.0.1 -> 23.1.2\n",
      "[notice] To update, run: C:\\Conda\\python.exe -m pip install --upgrade pip\n"
     ]
    }
   ],
   "source": [
    "pip install torch torchvision torchaudio"
   ]
  },
  {
   "cell_type": "code",
   "execution_count": 5,
   "metadata": {
    "execution": {
     "iopub.execute_input": "2022-03-10T09:15:29.437069Z",
     "iopub.status.busy": "2022-03-10T09:15:29.436854Z",
     "iopub.status.idle": "2022-03-10T09:15:33.382688Z",
     "shell.execute_reply": "2022-03-10T09:15:33.381947Z",
     "shell.execute_reply.started": "2022-03-10T09:15:29.437041Z"
    },
    "scrolled": true
   },
   "outputs": [
    {
     "ename": "ImportError",
     "evalue": "cannot import name 'ImageReadMode' from 'torchvision.io' (C:\\Conda\\lib\\site-packages\\torchvision\\io\\__init__.py)",
     "output_type": "error",
     "traceback": [
      "\u001b[1;31m---------------------------------------------------------------------------\u001b[0m",
      "\u001b[1;31mImportError\u001b[0m                               Traceback (most recent call last)",
      "\u001b[1;32m~\\AppData\\Local\\Temp\\ipykernel_2880\\2373025797.py\u001b[0m in \u001b[0;36m<module>\u001b[1;34m\u001b[0m\n\u001b[0;32m      6\u001b[0m \u001b[1;32mimport\u001b[0m \u001b[0mimageai\u001b[0m\u001b[1;33m\u001b[0m\u001b[1;33m\u001b[0m\u001b[0m\n\u001b[0;32m      7\u001b[0m \u001b[1;32mimport\u001b[0m \u001b[0mcv2\u001b[0m\u001b[1;33m\u001b[0m\u001b[1;33m\u001b[0m\u001b[0m\n\u001b[1;32m----> 8\u001b[1;33m \u001b[1;32mfrom\u001b[0m \u001b[0mimageai\u001b[0m\u001b[1;33m.\u001b[0m\u001b[0mDetection\u001b[0m \u001b[1;32mimport\u001b[0m \u001b[0mObjectDetection\u001b[0m\u001b[1;33m\u001b[0m\u001b[1;33m\u001b[0m\u001b[0m\n\u001b[0m\u001b[0;32m      9\u001b[0m \u001b[1;32mfrom\u001b[0m \u001b[0mimageai\u001b[0m\u001b[1;33m.\u001b[0m\u001b[0mDetection\u001b[0m\u001b[1;33m.\u001b[0m\u001b[0mCustom\u001b[0m \u001b[1;32mimport\u001b[0m \u001b[0mDetectionModelTrainer\u001b[0m\u001b[1;33m\u001b[0m\u001b[1;33m\u001b[0m\u001b[0m\n\u001b[0;32m     10\u001b[0m \u001b[1;32mfrom\u001b[0m \u001b[0mimageai\u001b[0m\u001b[1;33m.\u001b[0m\u001b[0mDetection\u001b[0m\u001b[1;33m.\u001b[0m\u001b[0mCustom\u001b[0m \u001b[1;32mimport\u001b[0m \u001b[0mCustomObjectDetection\u001b[0m\u001b[1;33m\u001b[0m\u001b[1;33m\u001b[0m\u001b[0m\n",
      "\u001b[1;32mC:\\Conda\\lib\\site-packages\\imageai\\Detection\\__init__.py\u001b[0m in \u001b[0;36m<module>\u001b[1;34m\u001b[0m\n\u001b[0;32m     15\u001b[0m \u001b[1;32mfrom\u001b[0m \u001b[1;33m.\u001b[0m\u001b[1;33m.\u001b[0m\u001b[0myolov3\u001b[0m\u001b[1;33m.\u001b[0m\u001b[0mtiny_yolov3\u001b[0m \u001b[1;32mimport\u001b[0m \u001b[0mYoloV3Tiny\u001b[0m\u001b[1;33m\u001b[0m\u001b[1;33m\u001b[0m\u001b[0m\n\u001b[0;32m     16\u001b[0m \u001b[1;32mfrom\u001b[0m \u001b[1;33m.\u001b[0m\u001b[1;33m.\u001b[0m\u001b[0myolov3\u001b[0m\u001b[1;33m.\u001b[0m\u001b[0mutils\u001b[0m \u001b[1;32mimport\u001b[0m \u001b[0mdraw_bbox_and_label\u001b[0m\u001b[1;33m,\u001b[0m \u001b[0mget_predictions\u001b[0m\u001b[1;33m,\u001b[0m \u001b[0mprepare_image\u001b[0m\u001b[1;33m\u001b[0m\u001b[1;33m\u001b[0m\u001b[0m\n\u001b[1;32m---> 17\u001b[1;33m \u001b[1;32mfrom\u001b[0m \u001b[1;33m.\u001b[0m\u001b[1;33m.\u001b[0m\u001b[0mretinanet\u001b[0m\u001b[1;33m.\u001b[0m\u001b[0mutils\u001b[0m \u001b[1;32mimport\u001b[0m \u001b[0mread_image\u001b[0m\u001b[1;33m,\u001b[0m \u001b[0mdraw_bounding_boxes_and_labels\u001b[0m\u001b[1;33m,\u001b[0m \u001b[0mtensor_to_ndarray\u001b[0m\u001b[1;33m\u001b[0m\u001b[1;33m\u001b[0m\u001b[0m\n\u001b[0m\u001b[0;32m     18\u001b[0m \u001b[1;32mimport\u001b[0m \u001b[0muuid\u001b[0m\u001b[1;33m\u001b[0m\u001b[1;33m\u001b[0m\u001b[0m\n\u001b[0;32m     19\u001b[0m \u001b[1;33m\u001b[0m\u001b[0m\n",
      "\u001b[1;32mC:\\Conda\\lib\\site-packages\\imageai\\retinanet\\utils.py\u001b[0m in \u001b[0;36m<module>\u001b[1;34m\u001b[0m\n\u001b[0;32m      1\u001b[0m \u001b[1;33m\u001b[0m\u001b[0m\n\u001b[1;32m----> 2\u001b[1;33m \u001b[1;32mfrom\u001b[0m \u001b[0mtorchvision\u001b[0m\u001b[1;33m.\u001b[0m\u001b[0mio\u001b[0m \u001b[1;32mimport\u001b[0m \u001b[0mImageReadMode\u001b[0m\u001b[1;33m\u001b[0m\u001b[1;33m\u001b[0m\u001b[0m\n\u001b[0m\u001b[0;32m      3\u001b[0m \u001b[1;32mimport\u001b[0m \u001b[0mtorch\u001b[0m\u001b[1;33m\u001b[0m\u001b[1;33m\u001b[0m\u001b[0m\n\u001b[0;32m      4\u001b[0m \u001b[1;32mfrom\u001b[0m \u001b[0mPIL\u001b[0m \u001b[1;32mimport\u001b[0m \u001b[0mImage\u001b[0m\u001b[1;33m,\u001b[0m \u001b[0mImageColor\u001b[0m\u001b[1;33m,\u001b[0m \u001b[0mImageDraw\u001b[0m\u001b[1;33m,\u001b[0m \u001b[0mImageFont\u001b[0m\u001b[1;33m\u001b[0m\u001b[1;33m\u001b[0m\u001b[0m\n\u001b[0;32m      5\u001b[0m \u001b[1;32mfrom\u001b[0m \u001b[0mtyping\u001b[0m \u001b[1;32mimport\u001b[0m \u001b[0mList\u001b[0m\u001b[1;33m,\u001b[0m \u001b[0mOptional\u001b[0m\u001b[1;33m,\u001b[0m \u001b[0mUnion\u001b[0m\u001b[1;33m,\u001b[0m \u001b[0mTuple\u001b[0m\u001b[1;33m,\u001b[0m \u001b[0mBinaryIO\u001b[0m\u001b[1;33m\u001b[0m\u001b[1;33m\u001b[0m\u001b[0m\n",
      "\u001b[1;31mImportError\u001b[0m: cannot import name 'ImageReadMode' from 'torchvision.io' (C:\\Conda\\lib\\site-packages\\torchvision\\io\\__init__.py)"
     ]
    }
   ],
   "source": [
    "import numpy as np\n",
    "import os\n",
    "import shutil\n",
    "from pathlib import Path\n",
    "\n",
    "import imageai\n",
    "import cv2\n",
    "from imageai.Detection import ObjectDetection\n",
    "from imageai.Detection.Custom import DetectionModelTrainer\n",
    "from imageai.Detection.Custom import CustomObjectDetection"
   ]
  },
  {
   "cell_type": "code",
   "execution_count": null,
   "metadata": {
    "execution": {
     "iopub.execute_input": "2022-03-10T09:15:33.385747Z",
     "iopub.status.busy": "2022-03-10T09:15:33.383855Z",
     "iopub.status.idle": "2022-03-10T09:15:52.377147Z",
     "shell.execute_reply": "2022-03-10T09:15:52.376455Z",
     "shell.execute_reply.started": "2022-03-10T09:15:33.385694Z"
    }
   },
   "outputs": [],
   "source": [
    "detector = ObjectDetection()\n",
    "detector.setModelTypeAsYOLOv3()\n",
    "detector.setModelPath(\"../input/gb-pretrainedyolov3h5/pretrained-yolov3.h5\")\n",
    "detector.loadModel()\n",
    "detections = detector.detectObjectsFromImage(input_image='../input/chess-piece-dectection/images/chess0.png',\n",
    "                                             output_image_path='./detected.png',\n",
    "                                             minimum_percentage_probability=30)\n",
    "\n",
    "for eachObject in detections:\n",
    "    print(eachObject[\"name\"] , \" : \", eachObject[\"percentage_probability\"], \" : \", eachObject[\"box_points\"] )\n",
    "    print(\"--------------------------------\")"
   ]
  },
  {
   "cell_type": "code",
   "execution_count": null,
   "metadata": {
    "execution": {
     "iopub.execute_input": "2022-03-10T09:15:52.383856Z",
     "iopub.status.busy": "2022-03-10T09:15:52.381579Z",
     "iopub.status.idle": "2022-03-10T09:15:52.477108Z",
     "shell.execute_reply": "2022-03-10T09:15:52.476361Z",
     "shell.execute_reply.started": "2022-03-10T09:15:52.383815Z"
    }
   },
   "outputs": [],
   "source": [
    "from PIL import Image\n",
    "Image.open('./detected.png')"
   ]
  },
  {
   "cell_type": "code",
   "execution_count": null,
   "metadata": {
    "execution": {
     "iopub.execute_input": "2022-03-10T09:15:52.478522Z",
     "iopub.status.busy": "2022-03-10T09:15:52.478068Z",
     "iopub.status.idle": "2022-03-10T09:15:52.510845Z",
     "shell.execute_reply": "2022-03-10T09:15:52.510194Z",
     "shell.execute_reply.started": "2022-03-10T09:15:52.478486Z"
    }
   },
   "outputs": [],
   "source": [
    "root_annots_path = '../input/chess-piece-dectection/annotations/'\n",
    "root_images_path = '../input/chess-piece-dectection/images/'\n",
    "\n",
    "annots_path = sorted([i for i in Path(root_annots_path).glob('*.xml')])\n",
    "images_path = sorted([i for i in Path(root_images_path).glob('*.png')])\n",
    "\n",
    "n_imgs = len(images_path)"
   ]
  },
  {
   "cell_type": "code",
   "execution_count": null,
   "metadata": {
    "execution": {
     "iopub.execute_input": "2022-03-10T09:15:52.512328Z",
     "iopub.status.busy": "2022-03-10T09:15:52.512015Z",
     "iopub.status.idle": "2022-03-10T09:15:52.519121Z",
     "shell.execute_reply": "2022-03-10T09:15:52.518259Z",
     "shell.execute_reply.started": "2022-03-10T09:15:52.512291Z"
    }
   },
   "outputs": [],
   "source": [
    "with open(annots_path[6], 'r') as f:\n",
    "    print(f.read())"
   ]
  },
  {
   "cell_type": "code",
   "execution_count": null,
   "metadata": {
    "execution": {
     "iopub.execute_input": "2022-03-10T09:15:52.52108Z",
     "iopub.status.busy": "2022-03-10T09:15:52.520534Z",
     "iopub.status.idle": "2022-03-10T09:15:52.70096Z",
     "shell.execute_reply": "2022-03-10T09:15:52.700195Z",
     "shell.execute_reply.started": "2022-03-10T09:15:52.520952Z"
    }
   },
   "outputs": [],
   "source": [
    "set_classes = set()\n",
    "\n",
    "for annot in annots_path:\n",
    "    with open(annot, 'r') as f:\n",
    "        string = f.read()\n",
    "        name = string[string.find('<name>')+6:string.find('</name>')]\n",
    "        set_classes.add(name)\n",
    "\n",
    "classes = np.array(list(set_classes))\n",
    "print(classes)"
   ]
  },
  {
   "cell_type": "code",
   "execution_count": null,
   "metadata": {
    "execution": {
     "iopub.execute_input": "2022-03-10T09:15:52.702556Z",
     "iopub.status.busy": "2022-03-10T09:15:52.702295Z",
     "iopub.status.idle": "2022-03-10T09:15:52.711933Z",
     "shell.execute_reply": "2022-03-10T09:15:52.710985Z",
     "shell.execute_reply.started": "2022-03-10T09:15:52.702519Z"
    }
   },
   "outputs": [],
   "source": [
    "os.makedirs('../imageai/data/train/images', exist_ok=True)\n",
    "os.makedirs('../imageai/data/train/annotations', exist_ok=True)\n",
    "\n",
    "os.makedirs('../imageai/data/validation/images', exist_ok=True)\n",
    "os.makedirs('../imageai/data/validation/annotations', exist_ok=True)\n",
    "\n",
    "os.makedirs('../imageai/data/test/images', exist_ok=True)\n",
    "os.makedirs('../imageai/data/test/annotations', exist_ok=True)"
   ]
  },
  {
   "cell_type": "code",
   "execution_count": null,
   "metadata": {
    "execution": {
     "iopub.execute_input": "2022-03-10T09:15:52.713404Z",
     "iopub.status.busy": "2022-03-10T09:15:52.713079Z",
     "iopub.status.idle": "2022-03-10T09:15:53.874284Z",
     "shell.execute_reply": "2022-03-10T09:15:53.873557Z",
     "shell.execute_reply.started": "2022-03-10T09:15:52.713344Z"
    }
   },
   "outputs": [],
   "source": [
    "n_imgs = 81\n",
    "n_split = n_imgs // 6\n",
    "\n",
    "\n",
    "for i, (annot_path, img_path) in enumerate(zip(annots_path, images_path)):    \n",
    "    if i > n_imgs:\n",
    "        break\n",
    "    # train-val-test split\n",
    "    if i < n_split:\n",
    "        shutil.copy(img_path, '../imageai/data/test/images/' + img_path.parts[-1])\n",
    "        shutil.copy(annot_path, '../imageai/data/test/annotations/' + annot_path.parts[-1])\n",
    "    elif n_split <= i < n_split*2:\n",
    "        shutil.copy(img_path, '../imageai/data/validation/images/' + img_path.parts[-1])\n",
    "        shutil.copy(annot_path, '../imageai/data/validation/annotations/' + annot_path.parts[-1])\n",
    "    else:\n",
    "        shutil.copy(img_path, '../imageai/data/train/images/' + img_path.parts[-1])\n",
    "        shutil.copy(annot_path, '../imageai/data/train/annotations/' + annot_path.parts[-1])"
   ]
  },
  {
   "cell_type": "code",
   "execution_count": null,
   "metadata": {
    "execution": {
     "iopub.execute_input": "2022-03-10T09:15:53.877251Z",
     "iopub.status.busy": "2022-03-10T09:15:53.876857Z",
     "iopub.status.idle": "2022-03-10T09:15:53.885377Z",
     "shell.execute_reply": "2022-03-10T09:15:53.884677Z",
     "shell.execute_reply.started": "2022-03-10T09:15:53.877211Z"
    }
   },
   "outputs": [],
   "source": [
    "print(len(list(Path('../imageai/data/train/annotations/').glob('*.xml'))))\n",
    "print(len(list(Path('../imageai/data/validation/annotations/').glob('*.xml'))))\n",
    "print(len(list(Path('../imageai/data/test/annotations/').glob('*.xml'))))"
   ]
  },
  {
   "cell_type": "code",
   "execution_count": null,
   "metadata": {
    "execution": {
     "iopub.execute_input": "2022-03-10T09:42:14.297394Z",
     "iopub.status.busy": "2022-03-10T09:42:14.296797Z",
     "iopub.status.idle": "2022-03-10T09:55:14.576517Z",
     "shell.execute_reply": "2022-03-10T09:55:14.575752Z",
     "shell.execute_reply.started": "2022-03-10T09:42:14.297353Z"
    }
   },
   "outputs": [],
   "source": [
    "trainer = DetectionModelTrainer()\n",
    "trainer.setModelTypeAsYOLOv3()\n",
    "trainer.setDataDirectory(data_directory=\"../imageai/data/\")\n",
    "trainer.setTrainConfig(object_names_array=classes,\n",
    "                       batch_size=8,\n",
    "                       num_experiments=30,\n",
    "                       train_from_pretrained_model=\"../input/gb-pretrainedyolov3h5/pretrained-yolov3.h5\")\n",
    "\n",
    "trainer.trainModel()"
   ]
  },
  {
   "cell_type": "code",
   "execution_count": null,
   "metadata": {
    "execution": {
     "iopub.execute_input": "2022-03-10T09:57:29.111375Z",
     "iopub.status.busy": "2022-03-10T09:57:29.110844Z",
     "iopub.status.idle": "2022-03-10T09:57:29.116863Z",
     "shell.execute_reply": "2022-03-10T09:57:29.116164Z",
     "shell.execute_reply.started": "2022-03-10T09:57:29.111337Z"
    }
   },
   "outputs": [],
   "source": []
  },
  {
   "cell_type": "code",
   "execution_count": null,
   "metadata": {
    "execution": {
     "iopub.execute_input": "2022-03-10T09:57:57.842067Z",
     "iopub.status.busy": "2022-03-10T09:57:57.841293Z",
     "iopub.status.idle": "2022-03-10T09:58:01.058569Z",
     "shell.execute_reply": "2022-03-10T09:58:01.057851Z",
     "shell.execute_reply.started": "2022-03-10T09:57:57.842012Z"
    }
   },
   "outputs": [],
   "source": [
    "trainer = DetectionModelTrainer()\n",
    "trainer.setModelTypeAsYOLOv3()\n",
    "trainer.setDataDirectory(data_directory=\"../imageai/data/\")\n",
    "\n",
    "last_model_name = sorted(os.listdir(\"../imageai/data/models/\"))[-1]\n",
    "metrics = trainer.evaluateModel(model_path=f\"../imageai/data/models/{last_model_name}\",\n",
    "                                json_path=\"../imageai/data/json/detection_config.json\",\n",
    "                                iou_threshold=0.2,\n",
    "                                object_threshold=0.3,\n",
    "                                nms_threshold=0.5)"
   ]
  },
  {
   "cell_type": "code",
   "execution_count": null,
   "metadata": {
    "execution": {
     "iopub.execute_input": "2022-03-10T09:59:18.621727Z",
     "iopub.status.busy": "2022-03-10T09:59:18.621446Z",
     "iopub.status.idle": "2022-03-10T09:59:20.567143Z",
     "shell.execute_reply": "2022-03-10T09:59:20.566376Z",
     "shell.execute_reply.started": "2022-03-10T09:59:18.621673Z"
    }
   },
   "outputs": [],
   "source": [
    "detector = CustomObjectDetection()\n",
    "detector.setModelTypeAsYOLOv3()\n",
    "detector.setModelPath(f\"../imageai/data/models/{last_model_name}\")\n",
    "detector.setJsonPath(\"../imageai/data/json/detection_config.json\")\n",
    "detector.loadModel()\n",
    "detections = detector.detectObjectsFromImage(minimum_percentage_probability=50,\n",
    "                                             input_image=\"../imageai/data/validation/images/chess20.png\",\n",
    "                                             output_image_path=\"../imageai/detected.jpg\")\n",
    "for detection in detections:\n",
    "    print(detection[\"name\"], \" : \", detection[\"percentage_probability\"], \" : \", detection[\"box_points\"])"
   ]
  },
  {
   "cell_type": "code",
   "execution_count": null,
   "metadata": {
    "execution": {
     "iopub.execute_input": "2022-03-10T09:59:20.569049Z",
     "iopub.status.busy": "2022-03-10T09:59:20.568804Z",
     "iopub.status.idle": "2022-03-10T09:59:20.611203Z",
     "shell.execute_reply": "2022-03-10T09:59:20.610581Z",
     "shell.execute_reply.started": "2022-03-10T09:59:20.569016Z"
    }
   },
   "outputs": [],
   "source": [
    "from PIL import Image\n",
    "Image.open('../imageai/detected.jpg')"
   ]
  },
  {
   "cell_type": "code",
   "execution_count": null,
   "metadata": {},
   "outputs": [],
   "source": []
  }
 ],
 "metadata": {
  "kernelspec": {
   "display_name": "Python 3 (ipykernel)",
   "language": "python",
   "name": "python3"
  },
  "language_info": {
   "codemirror_mode": {
    "name": "ipython",
    "version": 3
   },
   "file_extension": ".py",
   "mimetype": "text/x-python",
   "name": "python",
   "nbconvert_exporter": "python",
   "pygments_lexer": "ipython3",
   "version": "3.9.13"
  }
 },
 "nbformat": 4,
 "nbformat_minor": 4
}
